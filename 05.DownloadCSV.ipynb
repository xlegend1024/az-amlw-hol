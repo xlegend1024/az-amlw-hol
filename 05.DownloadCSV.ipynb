{
 "cells": [
  {
   "cell_type": "code",
   "execution_count": 1,
   "metadata": {},
   "outputs": [],
   "source": [
    "# Use the Azure Machine Learning data collector to log various metrics\n",
    "from azureml.logging import get_azureml_logger\n",
    "logger = get_azureml_logger()"
   ]
  },
  {
   "cell_type": "code",
   "execution_count": 2,
   "metadata": {},
   "outputs": [
    {
     "name": "stdout",
     "output_type": "stream",
     "text": [
      "History logging disabled\n"
     ]
    }
   ],
   "source": [
    "# Use Azure Machine Learning history magic to control history collection\n",
    "# History is off by default, options are \"on\", \"off\", or \"show\"\n",
    "%azureml history off"
   ]
  },
  {
   "cell_type": "code",
   "execution_count": 3,
   "metadata": {},
   "outputs": [],
   "source": [
    "# Install library for the first use\n",
    "# !pip install azure-storage "
   ]
  },
  {
   "cell_type": "markdown",
   "metadata": {},
   "source": [
    "# Download data from Azure Blob Storage"
   ]
  },
  {
   "cell_type": "code",
   "execution_count": 4,
   "metadata": {},
   "outputs": [],
   "source": [
    "from azure.storage.blob import BlockBlobService, PublicAccess\n",
    "block_blob_service = BlockBlobService(account_name='mtcsdataai', account_key='d5XhBqQziobWFmcBhgFRzxP7PZZLMqqI0f9v5cCwG2F+Yemk4Z8rt75scnxdEt3GmvG84KEOeg5auZGzDE+KVw==')\n",
    "generator = block_blob_service.list_blobs('taxandmarket')\n",
    "container_name='taxandmarket'"
   ]
  },
  {
   "cell_type": "code",
   "execution_count": 5,
   "metadata": {},
   "outputs": [
    {
     "name": "stdout",
     "output_type": "stream",
     "text": [
      "\t Blob name: joined_dataset.csv\n"
     ]
    }
   ],
   "source": [
    "for blob in generator:\n",
    "            print(\"\\t Blob name: \" + blob.name)"
   ]
  },
  {
   "cell_type": "code",
   "execution_count": 7,
   "metadata": {},
   "outputs": [
    {
     "name": "stdout",
     "output_type": "stream",
     "text": [
      "\n",
      "Downloading blob to /Users/hyun/downloads/joined_dataset.csv\n"
     ]
    }
   ],
   "source": [
    "# https://docs.microsoft.com/en-us/azure/storage/blobs/storage-quickstart-blobs-python\n",
    "local_path=os.path.expanduser(\"~/downloads\")\n",
    "blob_file_name='joined_dataset.csv'\n",
    "full_path_to_file = os.path.join(local_path, blob_file_name)\n",
    "block_blob_service.get_blob_to_path(container_name, blob_file_name, full_path_to_file)\n",
    "print(\"\\nDownloading blob to \" + full_path_to_file)"
   ]
  },
  {
   "cell_type": "code",
   "execution_count": 8,
   "metadata": {},
   "outputs": [
    {
     "name": "stdout",
     "output_type": "stream",
     "text": [
      "History logging enabled\n"
     ]
    }
   ],
   "source": [
    "# Use Azure Machine Learning history magic to control history collection\n",
    "# History is off by default, options are \"on\", \"off\", or \"show\"\n",
    "%azureml history on"
   ]
  },
  {
   "cell_type": "code",
   "execution_count": 9,
   "metadata": {},
   "outputs": [
    {
     "data": {
      "text/plain": [
       "<azureml.logging.script_run_request.ScriptRunRequest at 0x11bb1d358>"
      ]
     },
     "execution_count": 9,
     "metadata": {},
     "output_type": "execute_result"
    }
   ],
   "source": [
    "logger.log(\"Data Source\", full_path_to_file)"
   ]
  },
  {
   "cell_type": "code",
   "execution_count": 10,
   "metadata": {},
   "outputs": [
    {
     "data": {
      "text/html": [
       "<div>\n",
       "<table border=\"1\" class=\"dataframe\">\n",
       "  <thead>\n",
       "    <tr style=\"text-align: right;\">\n",
       "      <th></th>\n",
       "      <th>Column1</th>\n",
       "      <th>count</th>\n",
       "      <th>zip</th>\n",
       "      <th>zipcode</th>\n",
       "      <th>sum(zipcode)</th>\n",
       "      <th>sum(single_returns)</th>\n",
       "      <th>sum(joint_returns)</th>\n",
       "      <th>sum(numdep)</th>\n",
       "      <th>sum(total_income_amount)</th>\n",
       "      <th>sum(taxable_interest_amount)</th>\n",
       "      <th>sum(net_capital_gains)</th>\n",
       "      <th>sum(biz_net_income)</th>\n",
       "    </tr>\n",
       "  </thead>\n",
       "  <tbody>\n",
       "    <tr>\n",
       "      <th>0</th>\n",
       "      <td>0.0</td>\n",
       "      <td>NaN</td>\n",
       "      <td>NaN</td>\n",
       "      <td>463.0</td>\n",
       "      <td>8334.0</td>\n",
       "      <td>930.0</td>\n",
       "      <td>840.0</td>\n",
       "      <td>980.0</td>\n",
       "      <td>82700.0</td>\n",
       "      <td>460.0</td>\n",
       "      <td>8.250000e+02</td>\n",
       "      <td>4409.0</td>\n",
       "    </tr>\n",
       "    <tr>\n",
       "      <th>1</th>\n",
       "      <td>1.0</td>\n",
       "      <td>2.0</td>\n",
       "      <td>496.0</td>\n",
       "      <td>496.0</td>\n",
       "      <td>17856.0</td>\n",
       "      <td>3290.0</td>\n",
       "      <td>3250.0</td>\n",
       "      <td>4150.0</td>\n",
       "      <td>357071.0</td>\n",
       "      <td>1540.0</td>\n",
       "      <td>5.704000e+03</td>\n",
       "      <td>10969.0</td>\n",
       "    </tr>\n",
       "    <tr>\n",
       "      <th>2</th>\n",
       "      <td>2.0</td>\n",
       "      <td>NaN</td>\n",
       "      <td>NaN</td>\n",
       "      <td>833.0</td>\n",
       "      <td>9996.0</td>\n",
       "      <td>14000.0</td>\n",
       "      <td>9490.0</td>\n",
       "      <td>19940.0</td>\n",
       "      <td>1497553.0</td>\n",
       "      <td>7747.0</td>\n",
       "      <td>1.278800e+04</td>\n",
       "      <td>32485.0</td>\n",
       "    </tr>\n",
       "    <tr>\n",
       "      <th>3</th>\n",
       "      <td>3.0</td>\n",
       "      <td>1.0</td>\n",
       "      <td>1342.0</td>\n",
       "      <td>1342.0</td>\n",
       "      <td>40260.0</td>\n",
       "      <td>4800.0</td>\n",
       "      <td>3680.0</td>\n",
       "      <td>5450.0</td>\n",
       "      <td>475283.0</td>\n",
       "      <td>2919.0</td>\n",
       "      <td>6.476000e+03</td>\n",
       "      <td>13496.0</td>\n",
       "    </tr>\n",
       "    <tr>\n",
       "      <th>4</th>\n",
       "      <td>4.0</td>\n",
       "      <td>1.0</td>\n",
       "      <td>1580.0</td>\n",
       "      <td>1580.0</td>\n",
       "      <td>9480.0</td>\n",
       "      <td>4600.0</td>\n",
       "      <td>3940.0</td>\n",
       "      <td>4650.0</td>\n",
       "      <td>516516.0</td>\n",
       "      <td>4243.0</td>\n",
       "      <td>1.082700e+04</td>\n",
       "      <td>22441.0</td>\n",
       "    </tr>\n",
       "    <tr>\n",
       "      <th>5</th>\n",
       "      <td>5.0</td>\n",
       "      <td>5.0</td>\n",
       "      <td>2122.0</td>\n",
       "      <td>2122.0</td>\n",
       "      <td>127320.0</td>\n",
       "      <td>94310.0</td>\n",
       "      <td>46450.0</td>\n",
       "      <td>120950.0</td>\n",
       "      <td>8381305.0</td>\n",
       "      <td>32598.0</td>\n",
       "      <td>7.113600e+04</td>\n",
       "      <td>202711.0</td>\n",
       "    </tr>\n",
       "    <tr>\n",
       "      <th>6</th>\n",
       "      <td>6.0</td>\n",
       "      <td>NaN</td>\n",
       "      <td>NaN</td>\n",
       "      <td>2366.0</td>\n",
       "      <td>99372.0</td>\n",
       "      <td>31870.0</td>\n",
       "      <td>23150.0</td>\n",
       "      <td>43120.0</td>\n",
       "      <td>3395514.0</td>\n",
       "      <td>15435.0</td>\n",
       "      <td>4.028900e+04</td>\n",
       "      <td>46188.0</td>\n",
       "    </tr>\n",
       "    <tr>\n",
       "      <th>7</th>\n",
       "      <td>7.0</td>\n",
       "      <td>NaN</td>\n",
       "      <td>NaN</td>\n",
       "      <td>2659.0</td>\n",
       "      <td>31908.0</td>\n",
       "      <td>370.0</td>\n",
       "      <td>450.0</td>\n",
       "      <td>570.0</td>\n",
       "      <td>45116.0</td>\n",
       "      <td>97.0</td>\n",
       "      <td>1.844674e+19</td>\n",
       "      <td>596.0</td>\n",
       "    </tr>\n",
       "    <tr>\n",
       "      <th>8</th>\n",
       "      <td>8.0</td>\n",
       "      <td>NaN</td>\n",
       "      <td>NaN</td>\n",
       "      <td>2866.0</td>\n",
       "      <td>85980.0</td>\n",
       "      <td>1320.0</td>\n",
       "      <td>1720.0</td>\n",
       "      <td>2230.0</td>\n",
       "      <td>147989.0</td>\n",
       "      <td>774.0</td>\n",
       "      <td>2.556000e+03</td>\n",
       "      <td>3534.0</td>\n",
       "    </tr>\n",
       "    <tr>\n",
       "      <th>9</th>\n",
       "      <td>9.0</td>\n",
       "      <td>1.0</td>\n",
       "      <td>3175.0</td>\n",
       "      <td>3175.0</td>\n",
       "      <td>57150.0</td>\n",
       "      <td>4250.0</td>\n",
       "      <td>4440.0</td>\n",
       "      <td>9490.0</td>\n",
       "      <td>495720.0</td>\n",
       "      <td>4784.0</td>\n",
       "      <td>7.824000e+03</td>\n",
       "      <td>14127.0</td>\n",
       "    </tr>\n",
       "  </tbody>\n",
       "</table>\n",
       "</div>"
      ],
      "text/plain": [
       "   Column1  count     zip  zipcode  sum(zipcode)  sum(single_returns)  \\\n",
       "0      0.0    NaN     NaN    463.0        8334.0                930.0   \n",
       "1      1.0    2.0   496.0    496.0       17856.0               3290.0   \n",
       "2      2.0    NaN     NaN    833.0        9996.0              14000.0   \n",
       "3      3.0    1.0  1342.0   1342.0       40260.0               4800.0   \n",
       "4      4.0    1.0  1580.0   1580.0        9480.0               4600.0   \n",
       "5      5.0    5.0  2122.0   2122.0      127320.0              94310.0   \n",
       "6      6.0    NaN     NaN   2366.0       99372.0              31870.0   \n",
       "7      7.0    NaN     NaN   2659.0       31908.0                370.0   \n",
       "8      8.0    NaN     NaN   2866.0       85980.0               1320.0   \n",
       "9      9.0    1.0  3175.0   3175.0       57150.0               4250.0   \n",
       "\n",
       "   sum(joint_returns)  sum(numdep)  sum(total_income_amount)  \\\n",
       "0               840.0        980.0                   82700.0   \n",
       "1              3250.0       4150.0                  357071.0   \n",
       "2              9490.0      19940.0                 1497553.0   \n",
       "3              3680.0       5450.0                  475283.0   \n",
       "4              3940.0       4650.0                  516516.0   \n",
       "5             46450.0     120950.0                 8381305.0   \n",
       "6             23150.0      43120.0                 3395514.0   \n",
       "7               450.0        570.0                   45116.0   \n",
       "8              1720.0       2230.0                  147989.0   \n",
       "9              4440.0       9490.0                  495720.0   \n",
       "\n",
       "   sum(taxable_interest_amount)  sum(net_capital_gains)  sum(biz_net_income)  \n",
       "0                         460.0            8.250000e+02               4409.0  \n",
       "1                        1540.0            5.704000e+03              10969.0  \n",
       "2                        7747.0            1.278800e+04              32485.0  \n",
       "3                        2919.0            6.476000e+03              13496.0  \n",
       "4                        4243.0            1.082700e+04              22441.0  \n",
       "5                       32598.0            7.113600e+04             202711.0  \n",
       "6                       15435.0            4.028900e+04              46188.0  \n",
       "7                          97.0            1.844674e+19                596.0  \n",
       "8                         774.0            2.556000e+03               3534.0  \n",
       "9                        4784.0            7.824000e+03              14127.0  "
      ]
     },
     "execution_count": 10,
     "metadata": {},
     "output_type": "execute_result"
    }
   ],
   "source": [
    "# Use the Azure Machine Learning data preparation package\n",
    "from azureml.dataprep import package\n",
    "# This call will load the referenced package and return a DataFrame.\n",
    "# If run in a PySpark environment, this call returns a\n",
    "# Spark DataFrame. If not, it returns a Pandas DataFrame.\n",
    "df = package.run('dataPrepPkg.dprep', dataflow_idx=0)\n",
    "\n",
    "# Remove this line and add code that uses the DataFrame\n",
    "df.head(10)\n"
   ]
  },
  {
   "cell_type": "code",
   "execution_count": null,
   "metadata": {},
   "outputs": [],
   "source": []
  },
  {
   "cell_type": "code",
   "execution_count": null,
   "metadata": {},
   "outputs": [],
   "source": [
    "%azureml history off"
   ]
  }
 ],
 "metadata": {
  "kernelspec": {
   "display_name": "aml_playgroung local",
   "language": "python",
   "name": "aml_playgroung_local"
  },
  "language_info": {
   "codemirror_mode": {
    "name": "ipython",
    "version": 3
   },
   "file_extension": ".py",
   "mimetype": "text/x-python",
   "name": "python",
   "nbconvert_exporter": "python",
   "pygments_lexer": "ipython3",
   "version": "3.5.2"
  }
 },
 "nbformat": 4,
 "nbformat_minor": 2
}
